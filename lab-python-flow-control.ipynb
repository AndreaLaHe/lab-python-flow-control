{
 "cells": [
  {
   "cell_type": "markdown",
   "id": "d3bfc191-8885-42ee-b0a0-bbab867c6f9f",
   "metadata": {
    "tags": []
   },
   "source": [
    "# Lab | Flow Control"
   ]
  },
  {
   "cell_type": "markdown",
   "id": "3851fcd1-cf98-4653-9c89-e003b7ec9400",
   "metadata": {},
   "source": [
    "## Exercise: Managing Customer Orders Optimized\n",
    "\n",
    "In the last lab, you were starting an online store that sells various products. To ensure smooth operations, you developed a program that manages customer orders and inventory.\n",
    "\n",
    "You did so without using flow control. Let's go a step further and improve this code.\n",
    "\n",
    "Follow the steps below to complete the exercise:\n",
    "\n",
    "1. Look at your code from the lab data structures, and improve repeated code with loops.\n",
    "\n",
    "2. Instead of asking the user to input the name of three products that a customer wants to order, do the following:\n",
    "    \n",
    "    a. Prompt the user to enter the name of a product that a customer wants to order.\n",
    "    \n",
    "    b. Add the product name to the \"customer_orders\" set.\n",
    "    \n",
    "    c. Ask the user if they want to add another product (yes/no).\n",
    "    \n",
    "    d. Continue the loop until the user does not want to add another product.\n",
    "\n",
    "3. Instead of updating the inventory by subtracting 1 from the quantity of each product, only do it for  the products that were ordered (those in \"customer_orders\")."
   ]
  },
  {
   "cell_type": "markdown",
   "id": "a5944923",
   "metadata": {},
   "source": [
    "<h1>EJERCICIO 1<h1>"
   ]
  },
  {
   "cell_type": "code",
   "execution_count": 1,
   "id": "ca3993f3",
   "metadata": {},
   "outputs": [],
   "source": [
    "products = [\"t-shirt\", \"mug\", \"hat\", \"book\", \"keychain\"]"
   ]
  },
  {
   "cell_type": "code",
   "execution_count": 2,
   "id": "7553643e",
   "metadata": {},
   "outputs": [],
   "source": [
    "inventory = {}"
   ]
  },
  {
   "cell_type": "code",
   "execution_count": 3,
   "id": "5fa95f92",
   "metadata": {},
   "outputs": [],
   "source": [
    "for product in products:\n",
    "    quantity = int(input(f\"Introduce la cantidad disponible para {product}: \"))\n",
    "    inventory[product] = quantity"
   ]
  },
  {
   "cell_type": "code",
   "execution_count": 4,
   "id": "dbf55a77",
   "metadata": {},
   "outputs": [
    {
     "name": "stdout",
     "output_type": "stream",
     "text": [
      "\n",
      "Inventory:\n",
      "t-shirt: 1\n",
      "mug: 4\n",
      "hat: 5\n",
      "book: 23\n",
      "keychain: 21\n"
     ]
    }
   ],
   "source": [
    "print(\"\\nInventory:\")\n",
    "for product, quantity in inventory.items():\n",
    "    print(f\"{product}: {quantity}\")"
   ]
  },
  {
   "cell_type": "code",
   "execution_count": 5,
   "id": "a6accfac",
   "metadata": {},
   "outputs": [
    {
     "name": "stdout",
     "output_type": "stream",
     "text": [
      "\n",
      "Introduce el nobre de los productos que quiere pedir:\n"
     ]
    }
   ],
   "source": [
    "customer_orders = set() \n",
    "\n",
    "print(\"\\nIntroduce el nobre de los productos que quiere pedir:\")\n",
    "for _ in range(3): \n",
    "    while True:\n",
    "        order = input(\"Introduce el nombre del producto: \").strip().lower()\n",
    "        if order in products:\n",
    "            customer_orders.add(order)  \n",
    "            break\n",
    "        else:\n",
    "            print(f\"{order} no está disponible, elige uno de estos: {products}.\")\n"
   ]
  },
  {
   "cell_type": "code",
   "execution_count": 6,
   "id": "df3f250c",
   "metadata": {},
   "outputs": [
    {
     "name": "stdout",
     "output_type": "stream",
     "text": [
      "\n",
      "Pedidos del cliente:\n",
      "book\n",
      "mug\n",
      "keychain\n"
     ]
    }
   ],
   "source": [
    "print(\"\\nPedidos del cliente:\")\n",
    "for order in customer_orders:\n",
    "    print(order)"
   ]
  },
  {
   "cell_type": "code",
   "execution_count": 7,
   "id": "30940b67",
   "metadata": {},
   "outputs": [],
   "source": [
    "for order in customer_orders:\n",
    "    if inventory[order] > 0:\n",
    "        inventory[order] -= 1\n",
    "    else:\n",
    "        print(f\"El producto {order} está fuera de stock y no se puede pedir.\")"
   ]
  },
  {
   "cell_type": "code",
   "execution_count": 8,
   "id": "3437a3e9",
   "metadata": {},
   "outputs": [
    {
     "name": "stdout",
     "output_type": "stream",
     "text": [
      "\n",
      "Inventario actualizado:\n",
      "t-shirt: 1\n",
      "mug: 3\n",
      "hat: 5\n",
      "book: 22\n",
      "keychain: 20\n"
     ]
    }
   ],
   "source": [
    "print(\"\\nInventario actualizado:\")\n",
    "for product, quantity in inventory.items():\n",
    "    print(f\"{product}: {quantity}\")"
   ]
  },
  {
   "cell_type": "markdown",
   "id": "76386a6d",
   "metadata": {},
   "source": [
    "<h1> EJERCICIO 2 <h1>"
   ]
  },
  {
   "cell_type": "code",
   "execution_count": 9,
   "id": "a42390c7",
   "metadata": {},
   "outputs": [],
   "source": [
    "customer_orders = set()  \n",
    "\n",
    "while True:\n",
    "    order = input(\"\\nIntroduce el nombre de los productos que quiere pedir el cliente: \").strip().lower()\n",
    "    if order in products:\n",
    "        customer_orders.add(order)  \n",
    "    else:\n",
    "        print(f\"{order} no está diponible, elige uno: {products}.\")\n",
    "\n",
    "    another = input(\"Do you want to add another product? (yes/no): \").strip().lower()\n",
    "    \n",
    "    if another == 'no':\n",
    "        break"
   ]
  },
  {
   "cell_type": "code",
   "execution_count": 11,
   "id": "9fa46bdc",
   "metadata": {},
   "outputs": [
    {
     "name": "stdout",
     "output_type": "stream",
     "text": [
      "\n",
      "Nuevos pedidos cliente :\n",
      "t-shirt\n",
      "mug\n"
     ]
    }
   ],
   "source": [
    "print(\"\\nNuevos pedidos cliente :\")\n",
    "for order in customer_orders:\n",
    "    print(order)"
   ]
  },
  {
   "cell_type": "markdown",
   "id": "98401a09",
   "metadata": {},
   "source": [
    "<h1> EJERCICIO 3 <h1>"
   ]
  },
  {
   "cell_type": "code",
   "execution_count": 12,
   "id": "7e9c6021",
   "metadata": {},
   "outputs": [],
   "source": [
    "for order in customer_orders:\n",
    "    if inventory[order] > 0:\n",
    "        inventory[order] -= 1\n",
    "    else:\n",
    "        print(f\"El producto {order} está fuera de stock y no se puede pedir.\")"
   ]
  },
  {
   "cell_type": "code",
   "execution_count": 13,
   "id": "68f50d81",
   "metadata": {},
   "outputs": [
    {
     "name": "stdout",
     "output_type": "stream",
     "text": [
      "\n",
      "Inventario actualizado:\n",
      "t-shirt: 0\n",
      "mug: 2\n",
      "hat: 5\n",
      "book: 22\n",
      "keychain: 20\n"
     ]
    }
   ],
   "source": [
    "print(\"\\nInventario actualizado:\")\n",
    "for product, quantity in inventory.items():\n",
    "    print(f\"{product}: {quantity}\")"
   ]
  }
 ],
 "metadata": {
  "kernelspec": {
   "display_name": "Python 3 (ipykernel)",
   "language": "python",
   "name": "python3"
  },
  "language_info": {
   "codemirror_mode": {
    "name": "ipython",
    "version": 3
   },
   "file_extension": ".py",
   "mimetype": "text/x-python",
   "name": "python",
   "nbconvert_exporter": "python",
   "pygments_lexer": "ipython3",
   "version": "3.7.9"
  }
 },
 "nbformat": 4,
 "nbformat_minor": 5
}
